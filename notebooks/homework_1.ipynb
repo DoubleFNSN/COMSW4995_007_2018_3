{
 "cells": [
  {
   "cell_type": "markdown",
   "metadata": {},
   "source": [
    "# COMSW4995_007_2018_3 Elements of Data Science \n",
    "# Homework 1\n",
    "\n",
    "### Due: 9pm Oct. 4\n",
    "\n",
    "In this homework we practice loading and transforming data.  \n",
    "We'll also practice calculating summary statistics and a few visualizations.\n",
    "\n",
    "## Instructions\n",
    "\n",
    "Follow the comments below and fill in the blanks (\\_\\_\\_\\_) to complete."
   ]
  },
  {
   "cell_type": "markdown",
   "metadata": {},
   "source": [
    "---"
   ]
  },
  {
   "cell_type": "code",
   "execution_count": null,
   "metadata": {},
   "outputs": [],
   "source": [
    "import pandas as pd\n",
    "import numpy as np\n",
    "import seaborn as sns\n",
    "import matplotlib.pyplot as plt\n",
    "\n",
    "# tell jupyter to display images in the notebook\n",
    "%matplotlib inline\n",
    "\n",
    "# for pretty printing\n",
    "import pprint\n",
    "\n",
    "# To suppress FutureWarnings\n",
    "import warnings\n",
    "warnings.simplefilter(action='ignore', category=FutureWarning)\n",
    "\n",
    "# To increase the number of rows pandas will print before truncation\n",
    "pd.set_option('display.max_rows', 500)\n",
    "\n",
    "# To increase the number of columns pandas will print before truncation\n",
    "pd.set_option('display.max_columns', 100)\n",
    "\n",
    "# To increase the width of each column pandas will print before truncating.\n",
    "pd.set_option('display.max_colwidth',100)"
   ]
  },
  {
   "cell_type": "markdown",
   "metadata": {},
   "source": [
    "---"
   ]
  },
  {
   "cell_type": "markdown",
   "metadata": {},
   "source": [
    "## Part 1: College Football Dataset and total_score\n",
    "\n",
    "Fall is college football season, so we'll first look at some data from the 2017 college football season.  \n",
    "This data was gathered from 'http://sports.snoozle.net/'.\n",
    "\n",
    "We'd like to find the total score for each game and the min, max and mean of the total scores.\n",
    "\n",
    "In this dataset, each row contains information about a single game, visiting team info followed by home team.  \n",
    "We'll need to combine two columns to find the total number of points.\n",
    "\n",
    "This csv contains columns with duplicate names.\n",
    "When there are columns with identical names, pandas attaches a suffix to discriminate them.  \n",
    "All 'Home Team' columns will have a '.1' suffix."
   ]
  },
  {
   "cell_type": "code",
   "execution_count": null,
   "metadata": {},
   "outputs": [],
   "source": [
    "# Load the data from ../data/cfb_2017.csv into the variable df_cfb\n",
    "df_cfb = ____"
   ]
  },
  {
   "cell_type": "code",
   "execution_count": null,
   "metadata": {},
   "outputs": [],
   "source": [
    "# Print the first 3 rows of the dataset using head\n",
    "____"
   ]
  },
  {
   "cell_type": "code",
   "execution_count": null,
   "metadata": {},
   "outputs": [],
   "source": [
    "# print out information about the dataframe using .info()\n",
    "____"
   ]
  },
  {
   "cell_type": "code",
   "execution_count": null,
   "metadata": {},
   "outputs": [],
   "source": [
    "# How may records are in the dataset?\n",
    "print('dataframe has {} records'.format(____))"
   ]
  },
  {
   "cell_type": "code",
   "execution_count": null,
   "metadata": {},
   "outputs": [],
   "source": [
    "# How many values are missing from the Score and Score.1 columns?\n",
    "print('there are {} missing scores'.format(____))"
   ]
  },
  {
   "cell_type": "code",
   "execution_count": null,
   "metadata": {},
   "outputs": [],
   "source": [
    "# What is the average (mean) score for visiting teams?\n",
    "print('the mean visiting team score is {:0.2f}'.format(____))"
   ]
  },
  {
   "cell_type": "code",
   "execution_count": null,
   "metadata": {},
   "outputs": [],
   "source": [
    "# To examine the total score, we need to combine Score and Score.1\n",
    "# Create a new column called 'total_score' which is the sum of the 'Score' and 'Score.1' columns\n",
    "____"
   ]
  },
  {
   "cell_type": "code",
   "execution_count": null,
   "metadata": {},
   "outputs": [],
   "source": [
    "# What is the average (mean) total score?\n",
    "print('the mean total score is {:0.2f}'.format(____))"
   ]
  },
  {
   "cell_type": "code",
   "execution_count": null,
   "metadata": {},
   "outputs": [],
   "source": [
    "# Use .describe to show other values associated with total score\n",
    "____"
   ]
  },
  {
   "cell_type": "code",
   "execution_count": null,
   "metadata": {},
   "outputs": [],
   "source": [
    "# what are the min and max values for total_score?\n",
    "print('the minimum and maximum values are {} and {}'.format(____))"
   ]
  },
  {
   "cell_type": "code",
   "execution_count": null,
   "metadata": {},
   "outputs": [],
   "source": [
    "# What were the team names and team scores for the game with the highest total score?\n",
    "# We should see a single row with the columns: Vis Team, Score, Home Team, Score.1\n",
    "____"
   ]
  },
  {
   "cell_type": "code",
   "execution_count": null,
   "metadata": {},
   "outputs": [],
   "source": [
    "# Use seaborn distplot to plot the distribution of total_score\n",
    "# Turn on rug to show each game's total score\n",
    "_ = ____"
   ]
  },
  {
   "cell_type": "markdown",
   "metadata": {},
   "source": [
    "---"
   ]
  },
  {
   "cell_type": "markdown",
   "metadata": {},
   "source": [
    "## Part 2: World Bank Data\n",
    "\n",
    "This data is provided by World Bank Open Data https://data.worldbank.org/.\n",
    "\n",
    "It includes many country data indicators sampled over time.\n",
    "\n",
    "There are two files we are interested in:\n",
    "1. WDICountry.csv includes country and region information, one country or region per row.\n",
    "2. WDIData.csv includes indicator data, one row per country and indicator.\n",
    "\n",
    "We would like to be able to analyze a few indicators for countries grouped by region.  \n",
    "To do that we will need to clean and join the two sets of records."
   ]
  },
  {
   "cell_type": "markdown",
   "metadata": {},
   "source": [
    "---"
   ]
  },
  {
   "cell_type": "markdown",
   "metadata": {},
   "source": [
    "### Part 2a: Munge WDICountry"
   ]
  },
  {
   "cell_type": "code",
   "execution_count": null,
   "metadata": {},
   "outputs": [],
   "source": [
    "# Read Country information from '../data/WDICountry.csv' into df_country\n",
    "# print the number of rows in df_country\n",
    "df_country = ____\n",
    "print('df_country has {} rows'.format(____))"
   ]
  },
  {
   "cell_type": "code",
   "execution_count": null,
   "metadata": {},
   "outputs": [],
   "source": [
    "# Print the first 3 rows of WDICountry\n",
    "____"
   ]
  },
  {
   "cell_type": "code",
   "execution_count": null,
   "metadata": {},
   "outputs": [],
   "source": [
    "# Using .columns, how many columns does WDICountry have?\n",
    "print('df_country has {} columns'.format(____))"
   ]
  },
  {
   "cell_type": "code",
   "execution_count": null,
   "metadata": {},
   "outputs": [],
   "source": [
    "# We'll only keep a few columns: ['Country Code','Short Name','Region','Income Group']\n",
    "# Overwrite df_country with a new dataframe containing only these columns\n",
    "# Print out the statement 'df_country has {} columns' using .format to confirm that there are only 4 columns\n",
    "df_country = ____\n",
    "____"
   ]
  },
  {
   "cell_type": "code",
   "execution_count": null,
   "metadata": {},
   "outputs": [],
   "source": [
    "# Examine df_country using .info\n",
    "____"
   ]
  },
  {
   "cell_type": "code",
   "execution_count": null,
   "metadata": {},
   "outputs": [],
   "source": [
    "# There are some rows with missing Region and Income Group.\n",
    "# Print out both the number and proportion of rows with missing Region information\n",
    "n_missing = ____\n",
    "prop_missing = ____\n",
    "print('there are {:} rows with missing data, {:0.2} of the dataset'.format(n_missing,prop_missing))"
   ]
  },
  {
   "cell_type": "code",
   "execution_count": null,
   "metadata": {},
   "outputs": [],
   "source": [
    "# Drop the rows of df_country with any null values (using inplace=True)\n",
    "# Use .info to make sure there a no longer null values\n",
    "____\n",
    "____"
   ]
  },
  {
   "cell_type": "code",
   "execution_count": null,
   "metadata": {},
   "outputs": [],
   "source": [
    "# Each row of df_country should be a separate country\n",
    "# Assert that there are no duplicates (use len and drop_duplicates)\n",
    "# hint: df_country should be the same length before and after dropping duplicate rows\n",
    "assert ____ == ____"
   ]
  },
  {
   "cell_type": "code",
   "execution_count": null,
   "metadata": {},
   "outputs": [],
   "source": [
    "# Assert that 'Country Code' is unique (use len and unique)\n",
    "# hist: the number of unique country codes should be the same length as the dataframe\n",
    "____"
   ]
  },
  {
   "cell_type": "code",
   "execution_count": null,
   "metadata": {},
   "outputs": [],
   "source": [
    "# Set the index (.set_index) of df_country to be 'Country Code' (inplace) and display the first 5 rows\n",
    "____\n",
    "____"
   ]
  },
  {
   "cell_type": "markdown",
   "metadata": {},
   "source": [
    "---"
   ]
  },
  {
   "cell_type": "markdown",
   "metadata": {},
   "source": [
    "### Part 2b: Munge WDIData"
   ]
  },
  {
   "cell_type": "code",
   "execution_count": null,
   "metadata": {},
   "outputs": [],
   "source": [
    "# Now we'll load the other country data we're interested in.\n",
    "# Read csv '../data/WDIData.csv.zip' into df_data\n",
    "# Note: \n",
    "#  Since this file is large it is stored as a zip.\n",
    "#  You don't need to decompress the zip file first, pandas will handle this for you.\n",
    "df_data = ____"
   ]
  },
  {
   "cell_type": "code",
   "execution_count": null,
   "metadata": {
    "scrolled": true
   },
   "outputs": [],
   "source": [
    "# Display .info for df_data\n",
    "# Note that the data is in long format instead of wide format\n",
    "____"
   ]
  },
  {
   "cell_type": "code",
   "execution_count": null,
   "metadata": {},
   "outputs": [],
   "source": [
    "# Use pprint.pprint to print a list of the unique values in Indicator Name\n",
    "# These are all of the available data points in this file, which is why it's so large.\n",
    "# (to see the difference, try using the standard 'print' first)\n",
    "____"
   ]
  },
  {
   "cell_type": "code",
   "execution_count": null,
   "metadata": {},
   "outputs": [],
   "source": [
    "# We'll only keep a few of these indicators.\n",
    "# Create a list of indicators to keep that includes these indicators:\n",
    "# 'Employment to population ratio, 15+, female (%) (modeled ILO estimate)','GDP (constant 2010 US$)','Population, total','Population density (people per sq. km of land area)','Unemployment, total (% of total labor force) (national estimate)'\n",
    "data_indicators_to_keep = ____"
   ]
  },
  {
   "cell_type": "code",
   "execution_count": null,
   "metadata": {},
   "outputs": [],
   "source": [
    "# The columns of WIData contain information for each year.\n",
    "# We'll look at only year 2016\n",
    "# Create a list of columns to keep that includes these columns:\n",
    "# 'Country Code','Indicator Name','2016'\n",
    "data_columns_to_keep = ____"
   ]
  },
  {
   "cell_type": "code",
   "execution_count": null,
   "metadata": {},
   "outputs": [],
   "source": [
    "# Overwrite df_data witha dataframe containing only: \n",
    "#  the rows whose 'Indicator Name' is in data_indicators_to_keep (use .isin) and \n",
    "#  the columns in data_columns_to_keep\n",
    "df_data = ____"
   ]
  },
  {
   "cell_type": "code",
   "execution_count": null,
   "metadata": {},
   "outputs": [],
   "source": [
    "# Display the first 5 rows of df_data\n",
    "____"
   ]
  },
  {
   "cell_type": "code",
   "execution_count": null,
   "metadata": {},
   "outputs": [],
   "source": [
    "# Into df_data_pivot, .pivot df_data with index 'Country Code', columns 'Indicator Name' and values '2016'\n",
    "# Display the first 5 rows of df_data_pivot\n",
    "df_data_pivot = ____\n",
    "____"
   ]
  },
  {
   "cell_type": "markdown",
   "metadata": {},
   "source": [
    "---"
   ]
  },
  {
   "cell_type": "markdown",
   "metadata": {},
   "source": [
    "### Part 2c: Join the two datasets"
   ]
  },
  {
   "cell_type": "code",
   "execution_count": null,
   "metadata": {},
   "outputs": [],
   "source": [
    "# Importantly, df_country and df_data_pivot now have the the same index values.\n",
    "# To see this, use .index to print out the first 5 index values in df_country and df_data\n",
    "print(____)\n",
    "print(____)"
   ]
  },
  {
   "cell_type": "code",
   "execution_count": null,
   "metadata": {},
   "outputs": [],
   "source": [
    "# Into df_wdi put the inner join of df_country with df_data_pivot using .join\n",
    "# Display the first 5 rows\n",
    "df_wdi = ____\n",
    "____"
   ]
  },
  {
   "cell_type": "code",
   "execution_count": null,
   "metadata": {},
   "outputs": [],
   "source": [
    "# Assert that the number of rows matches the number of unique 'Short Name'\n",
    "____"
   ]
  },
  {
   "cell_type": "markdown",
   "metadata": {},
   "source": [
    "---"
   ]
  },
  {
   "cell_type": "markdown",
   "metadata": {},
   "source": [
    "### Part 2d: Analysis and Visualization"
   ]
  },
  {
   "cell_type": "code",
   "execution_count": null,
   "metadata": {},
   "outputs": [],
   "source": [
    "# Display the number of countries per region seen in df_wdi (use .value_counts)\n",
    "____"
   ]
  },
  {
   "cell_type": "code",
   "execution_count": null,
   "metadata": {},
   "outputs": [],
   "source": [
    "# What proportion of our dataset is made up by each region?\n",
    "# Hint: Divide the output of value_counts by the number of rows.\n",
    "____"
   ]
  },
  {
   "cell_type": "code",
   "execution_count": null,
   "metadata": {},
   "outputs": [],
   "source": [
    "# Display the summary stats (means and quartiles) for 'Employment to population ratio, 15+, female (%) (modeled ILO estimate)'\n",
    "____"
   ]
  },
  {
   "cell_type": "code",
   "execution_count": null,
   "metadata": {},
   "outputs": [],
   "source": [
    "# Let's rename that column to something shorter.\n",
    "# Use .rename to rename (inplace)\n",
    "#  'Employment to population ratio, 15+, female (%) (modeled ILO estimate)' \n",
    "#  to \n",
    "#  'Female Employment To Population Ratio'\n",
    "# Display the columns to confirm.\n",
    "____\n",
    "____"
   ]
  },
  {
   "cell_type": "code",
   "execution_count": null,
   "metadata": {},
   "outputs": [],
   "source": [
    "# Use seaborn .catplot to display box plots of 'Female Employment Ratio' for each Region\n",
    "# Since the region names are long, we'll use horizontal box plots.\n",
    "# Put 'Female Employment To Population Ratio' on the x-axis and 'Region' on the y-axis.\n",
    "# Set 'aspect' to 2 to widen the plot\n",
    "_ = ____"
   ]
  }
 ],
 "metadata": {
  "kernelspec": {
   "display_name": "coms007",
   "language": "python",
   "name": "coms007"
  },
  "language_info": {
   "codemirror_mode": {
    "name": "ipython",
    "version": 3
   },
   "file_extension": ".py",
   "mimetype": "text/x-python",
   "name": "python",
   "nbconvert_exporter": "python",
   "pygments_lexer": "ipython3",
   "version": "3.6.5"
  }
 },
 "nbformat": 4,
 "nbformat_minor": 2
}
